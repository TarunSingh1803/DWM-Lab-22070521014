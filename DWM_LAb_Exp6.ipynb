{
 "cells": [
  {
   "cell_type": "code",
   "execution_count": null,
   "id": "502e21a9-24c6-4267-9ee5-876024545248",
   "metadata": {},
   "outputs": [],
   "source": [
    "# Objrctive: To implement various data flow transformations\n",
    "# That are commonly used in ETL processes."
   ]
  },
  {
   "cell_type": "code",
   "execution_count": 1,
   "id": "e1750caa-a98e-42be-944a-6610c89a72c0",
   "metadata": {},
   "outputs": [],
   "source": [
    "#     NAME- Tarun Kumar Singh     PRN- 22070521014\n",
    "import pandas as pd"
   ]
  },
  {
   "cell_type": "code",
   "execution_count": 3,
   "id": "95700b6d-df80-49a4-a84d-91af01307c20",
   "metadata": {},
   "outputs": [],
   "source": [
    "data = {\n",
    "    'ID' : [1, 2, 3, 4, 5, 6],\n",
    "    'Name' : ['Abhay', 'Vaibhav', 'Srijan', 'Neeraj', 'Amrit', 'Avinash'],\n",
    "    'Age' : [20, 24, 23, 36, 30, 41],\n",
    "    'Country' :['India', 'India', 'USA', 'USA', 'UK', 'Australia'],\n",
    "    'Sales' : [200, 400, 350, 550, 200, 450]\n",
    "}"
   ]
  },
  {
   "cell_type": "code",
   "execution_count": 5,
   "id": "c11a9fc7-cb81-47dc-a2bd-4b73f2af3321",
   "metadata": {},
   "outputs": [
    {
     "name": "stdout",
     "output_type": "stream",
     "text": [
      "Original Dataset: \n",
      "   ID     Name  Age    Country  Sales\n",
      "0   1    Abhay   20      India    200\n",
      "1   2  Vaibhav   24      India    400\n",
      "2   3   Srijan   23        USA    350\n",
      "3   4   Neeraj   36        USA    550\n",
      "4   5    Amrit   30         UK    200\n",
      "5   6  Avinash   41  Australia    450\n"
     ]
    }
   ],
   "source": [
    "df = pd.DataFrame(data)\n",
    "print(\"Original Dataset: \")\n",
    "print(df)"
   ]
  },
  {
   "cell_type": "code",
   "execution_count": 7,
   "id": "55a15b1f-680a-4c20-828b-8d46d679f87a",
   "metadata": {},
   "outputs": [
    {
     "name": "stdout",
     "output_type": "stream",
     "text": [
      "\n",
      "Character map (Uppercase Names): \n",
      "   ID     Name Name_Upper\n",
      "0   1    Abhay      ABHAY\n",
      "1   2  Vaibhav    VAIBHAV\n",
      "2   3   Srijan     SRIJAN\n",
      "3   4   Neeraj     NEERAJ\n",
      "4   5    Amrit      AMRIT\n",
      "5   6  Avinash    AVINASH\n"
     ]
    }
   ],
   "source": [
    "# Character Map: Convert 'Name' to uppercase\n",
    "df['Name_Upper'] = df['Name'].str.upper()\n",
    "print(\"\\nCharacter map (Uppercase Names): \")\n",
    "print(df[['ID', 'Name', 'Name_Upper']])"
   ]
  },
  {
   "cell_type": "code",
   "execution_count": 9,
   "id": "bcd5d44d-2000-4aca-8813-d47cd5fa4c32",
   "metadata": {},
   "outputs": [
    {
     "name": "stdout",
     "output_type": "stream",
     "text": [
      "\n",
      "Multicast (Modified Copies): \n",
      "\n",
      "Copy 1 (Sales Increased): \n",
      "   ID     Name  Age    Country  Sales Name_Upper\n",
      "0   1    Abhay   20      India  220.0      ABHAY\n",
      "1   2  Vaibhav   24      India  440.0    VAIBHAV\n",
      "2   3   Srijan   23        USA  385.0     SRIJAN\n",
      "3   4   Neeraj   36        USA  605.0     NEERAJ\n",
      "4   5    Amrit   30         UK  220.0      AMRIT\n",
      "5   6  Avinash   41  Australia  495.0    AVINASH\n",
      "\n",
      "Copy 2 (Age Increased): \n",
      "   ID     Name  Age    Country  Sales Name_Upper\n",
      "0   1    Abhay   25      India    200      ABHAY\n",
      "1   2  Vaibhav   29      India    400    VAIBHAV\n",
      "2   3   Srijan   28        USA    350     SRIJAN\n",
      "3   4   Neeraj   41        USA    550     NEERAJ\n",
      "4   5    Amrit   35         UK    200      AMRIT\n",
      "5   6  Avinash   46  Australia    450    AVINASH\n"
     ]
    }
   ],
   "source": [
    "# Multicast: Create two copies of the dataset\n",
    "df_copy1 = df.copy()\n",
    "df_copy2 = df.copy()\n",
    "\n",
    "# Transformation on each copy\n",
    "df_copy1['Sales'] *= 1.1    #Increase sales by 10%\n",
    "df_copy2['Age'] += 5    #Increase sales by 5 years\n",
    "\n",
    "print(\"\\nMulticast (Modified Copies): \\n\")\n",
    "print(\"Copy 1 (Sales Increased): \")\n",
    "print(df_copy1)\n",
    "print(\"\\nCopy 2 (Age Increased): \")\n",
    "print(df_copy2)\n"
   ]
  },
  {
   "cell_type": "code",
   "execution_count": 11,
   "id": "5f1870a4-aa3e-47f6-9bf6-6d42b355903c",
   "metadata": {},
   "outputs": [
    {
     "name": "stdout",
     "output_type": "stream",
     "text": [
      "\n",
      "Conditional Split: \n",
      "\n",
      "High Sales: \n",
      "   ID     Name  Age    Country  Sales Name_Upper\n",
      "1   2  Vaibhav   24      India    400    VAIBHAV\n",
      "2   3   Srijan   23        USA    350     SRIJAN\n",
      "3   4   Neeraj   36        USA    550     NEERAJ\n",
      "5   6  Avinash   41  Australia    450    AVINASH\n",
      "\n",
      "Low Sales: \n",
      "   ID   Name  Age Country  Sales Name_Upper\n",
      "0   1  Abhay   20   India    200      ABHAY\n",
      "4   5  Amrit   30      UK    200      AMRIT\n"
     ]
    }
   ],
   "source": [
    "# Coditional Split: Sales >300\n",
    "high_sales = df[df['Sales'] >300]\n",
    "low_sales = df[df['Sales'] <=300]\n",
    "print(\"\\nConditional Split: \")\n",
    "print(\"\\nHigh Sales: \")\n",
    "print(high_sales)\n",
    "print(\"\\nLow Sales: \")\n",
    "print(low_sales)"
   ]
  },
  {
   "cell_type": "code",
   "execution_count": 13,
   "id": "1dec48eb-eb59-4e44-bd59-672e5ec460be",
   "metadata": {},
   "outputs": [
    {
     "name": "stdout",
     "output_type": "stream",
     "text": [
      "\n",
      "Aggregration (Total sales by Country): \n",
      "     Country  Sales\n",
      "0  Australia    450\n",
      "1      India    600\n",
      "2         UK    200\n",
      "3        USA    900\n"
     ]
    }
   ],
   "source": [
    "# Aggregation\n",
    "# Description: Aggtrate data, e.g., cslculates total sales by country.\n",
    "# Aggregation: Total sales by Country \n",
    "agg_df = df.groupby('Country')['Sales'].sum().reset_index()\n",
    "print(\"\\nAggregration (Total sales by Country): \")\n",
    "print(agg_df)"
   ]
  },
  {
   "cell_type": "code",
   "execution_count": 17,
   "id": "30730e9f-7895-4124-8cde-e9ec06d44a66",
   "metadata": {},
   "outputs": [
    {
     "name": "stdout",
     "output_type": "stream",
     "text": [
      "\n",
      " Sort (Descending Sales): \n",
      "   ID     Name  Age    Country  Sales Name_Upper Sales_Category\n",
      "3   4   Neeraj   36        USA    550     NEERAJ           High\n",
      "5   6  Avinash   41  Australia    450    AVINASH           High\n",
      "1   2  Vaibhav   24      India    400    VAIBHAV           High\n",
      "2   3   Srijan   23        USA    350     SRIJAN           High\n",
      "0   1    Abhay   20      India    200      ABHAY            Low\n",
      "4   5    Amrit   30         UK    200      AMRIT            Low\n"
     ]
    }
   ],
   "source": [
    "# Sort\n",
    "# Description: Sort the dataset by Sales in decreasing order.\n",
    "# Sort: Sort by Sales i decreasing order\n",
    "sorted_df = df.sort_values(by = 'Sales', ascending = False)\n",
    "print(\"\\n Sort (Descending Sales): \")\n",
    "print(sorted_df)"
   ]
  },
  {
   "cell_type": "code",
   "execution_count": 19,
   "id": "1ac9dbdf-97a9-46ec-a522-f7164a6b1c41",
   "metadata": {},
   "outputs": [
    {
     "name": "stdout",
     "output_type": "stream",
     "text": [
      "\n",
      "Derived Columns (Sales Category): \n",
      "   ID     Name  Sales Sales_Category\n",
      "0   1    Abhay    200            Low\n",
      "1   2  Vaibhav    400           High\n",
      "2   3   Srijan    350           High\n",
      "3   4   Neeraj    550           High\n",
      "4   5    Amrit    200            Low\n",
      "5   6  Avinash    450           High\n"
     ]
    }
   ],
   "source": [
    "# Deerived Colum: Categorize sales as 'High' or 'Low'\n",
    "df['Sales_Category'] = df['Sales'].apply(lambda x: 'High' if x > 300 else 'Low')\n",
    "print(\"\\nDerived Columns (Sales Category): \")\n",
    "print(df[['ID', 'Name', 'Sales', 'Sales_Category']])"
   ]
  },
  {
   "cell_type": "code",
   "execution_count": null,
   "id": "380f8cf8-7999-4358-96ec-816138748f54",
   "metadata": {},
   "outputs": [],
   "source": []
  }
 ],
 "metadata": {
  "kernelspec": {
   "display_name": "Python [conda env:base] *",
   "language": "python",
   "name": "conda-base-py"
  },
  "language_info": {
   "codemirror_mode": {
    "name": "ipython",
    "version": 3
   },
   "file_extension": ".py",
   "mimetype": "text/x-python",
   "name": "python",
   "nbconvert_exporter": "python",
   "pygments_lexer": "ipython3",
   "version": "3.12.7"
  }
 },
 "nbformat": 4,
 "nbformat_minor": 5
}
